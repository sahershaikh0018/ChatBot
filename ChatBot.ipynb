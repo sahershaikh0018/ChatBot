{
  "cells": [
    {
      "cell_type": "markdown",
      "metadata": {
        "id": "view-in-github",
        "colab_type": "text"
      },
      "source": [
        "<a href=\"https://colab.research.google.com/github/sahershaikh0018/ChatBot/blob/main/ChatBot.ipynb\" target=\"_parent\"><img src=\"https://colab.research.google.com/assets/colab-badge.svg\" alt=\"Open In Colab\"/></a>"
      ]
    },
    {
      "cell_type": "code",
      "execution_count": null,
      "metadata": {
        "colab": {
          "background_save": true,
          "base_uri": "https://localhost:8080/"
        },
        "id": "pyEqLxLNeyvQ",
        "outputId": "1801f6ff-0253-49c9-9c2b-3d1c3c57474b"
      },
      "outputs": [
        {
          "name": "stdout",
          "output_type": "stream",
          "text": [
            "Chatbot: Hello! I'm your chatbot. How can I assist you today?\n",
            "Chatbot: Not much, just here to chat!\n"
          ]
        }
      ],
      "source": [
        "import random\n",
        "\n",
        "class Chatbot:\n",
        "    def __init__(self):\n",
        "        self.greetings = ['hello', 'hi', 'hey', 'howdy', 'hola']\n",
        "        self.goodbyes = ['bye', 'goodbye', 'see you', 'adios']\n",
        "        self.other_inputs = {\n",
        "            \"what's up?\": [\"Not much, just here to chat!\", \"I'm here to assist you!\", \"Just hanging out, ready to help!\"],\n",
        "            \"how are you?\": [\"I'm just a chatbot, but I'm functioning well!\", \"I don't have feelings, but thanks for asking.\"],\n",
        "            \"tell me a joke\": [\"Why don't scientists trust atoms? Because they make up everything!\", \"Did you hear about the mathematician who's afraid of negative numbers? He'll stop at nothing to avoid them.\"]\n",
        "        }\n",
        "\n",
        "    def chat(self):\n",
        "        print(\"Chatbot: Hello! I'm your chatbot. How can I assist you today?\")\n",
        "\n",
        "        while True:\n",
        "            user_input = input(\"You: \").lower()\n",
        "\n",
        "            if any(greeting in user_input for greeting in self.greetings):\n",
        "                response = random.choice([\"Hello!\", \"Hi there!\", \"Greetings!\"])\n",
        "            elif any(goodbye in user_input for goodbye in self.goodbyes):\n",
        "                response = random.choice([\"Goodbye!\", \"Farewell!\", \"See you later!\"])\n",
        "            else:\n",
        "                response = self.respond_to_other_inputs(user_input)\n",
        "\n",
        "            print(\"Chatbot:\", response)\n",
        "\n",
        "            if 'exit' in user_input:\n",
        "                break\n",
        "\n",
        "    def respond_to_other_inputs(self, user_input):\n",
        "        for input_pattern, responses in self.other_inputs.items():\n",
        "            if input_pattern in user_input:\n",
        "                return random.choice(responses)\n",
        "        return \"I'm not sure I understand. Could you please rephrase?\"\n",
        "\n",
        "# Create an instance of the chatbot and start the conversation\n",
        "bot = Chatbot()\n",
        "bot.chat()\n"
      ]
    },
    {
      "cell_type": "code",
      "execution_count": null,
      "metadata": {
        "id": "h9UV1Kj5mfwI"
      },
      "outputs": [],
      "source": [
        "from google.colab import drive\n",
        "drive.mount('/content/drive')"
      ]
    }
  ],
  "metadata": {
    "colab": {
      "provenance": [],
      "include_colab_link": true
    },
    "kernelspec": {
      "display_name": "Python 3",
      "name": "python3"
    },
    "language_info": {
      "name": "python"
    }
  },
  "nbformat": 4,
  "nbformat_minor": 0
}